{
  "nbformat": 4,
  "nbformat_minor": 0,
  "metadata": {
    "colab": {
      "provenance": [],
      "gpuType": "T4"
    },
    "kernelspec": {
      "name": "python3",
      "display_name": "Python 3"
    },
    "language_info": {
      "name": "python"
    },
    "accelerator": "GPU"
  },
  "cells": [
    {
      "cell_type": "code",
      "source": [
        "# @title Variational Auto Encoder Implemented on HAM10000"
      ],
      "metadata": {
        "id": "sUMjOXO2fjGz"
      },
      "execution_count": null,
      "outputs": []
    },
    {
      "cell_type": "code",
      "source": [
        "# @title Project done by: Sofia Guerrero and Nayara Vasques"
      ],
      "metadata": {
        "id": "GlQ-mMZnyu6_"
      },
      "execution_count": null,
      "outputs": []
    },
    {
      "cell_type": "code",
      "execution_count": null,
      "metadata": {
        "colab": {
          "base_uri": "https://localhost:8080/"
        },
        "id": "R9wxi8w71yqJ",
        "outputId": "504cff5d-dc06-4737-f4b7-903d8eff373a"
      },
      "outputs": [
        {
          "output_type": "stream",
          "name": "stdout",
          "text": [
            "Mounted at /content/drive\n"
          ]
        }
      ],
      "source": [
        "from google.colab import drive\n",
        "drive.mount('/content/drive')"
      ]
    },
    {
      "cell_type": "code",
      "source": [
        "data_root = '/content/drive/MyDrive/HAM10000_images_part_1'"
      ],
      "metadata": {
        "id": "eHjZ3dsR11Be"
      },
      "execution_count": null,
      "outputs": []
    },
    {
      "cell_type": "code",
      "source": [
        "#This part 1 includes 5000 images."
      ],
      "metadata": {
        "id": "edlDs9IDoFIp"
      },
      "execution_count": null,
      "outputs": []
    },
    {
      "cell_type": "code",
      "source": [
        "import torch\n",
        "import torch.nn as nn\n",
        "import torch.optim as optim\n",
        "from torch.utils.data import Dataset, DataLoader\n",
        "import torchvision\n",
        "from torchvision import transforms\n",
        "import matplotlib.pyplot as plt\n",
        "import numpy as np\n",
        "from PIL import Image\n",
        "import os\n"
      ],
      "metadata": {
        "id": "DdCdRVYQ10_Q"
      },
      "execution_count": null,
      "outputs": []
    },
    {
      "cell_type": "code",
      "source": [
        "# @title Loading the Dataset"
      ],
      "metadata": {
        "id": "pLUioPNboM1S"
      },
      "execution_count": null,
      "outputs": []
    },
    {
      "cell_type": "code",
      "source": [
        "\n",
        "class CustomDataset(Dataset):\n",
        "    def __init__(self, data_root, transform=None):\n",
        "        self.data_root = data_root\n",
        "        self.image_paths = os.listdir(data_root)\n",
        "        self.transform = transform\n",
        "\n",
        "    def __len__(self):\n",
        "        return len(self.image_paths)\n",
        "\n",
        "    def __getitem__(self, idx):\n",
        "        img_name = os.path.join(self.data_root, self.image_paths[idx])\n",
        "        image = Image.open(img_name).convert(\"RGB\")  # Convert image to RGB\n",
        "        if self.transform:\n",
        "            image = self.transform(image)\n",
        "        return image\n",
        "\n",
        "# Define the VAE architecture\n",
        "class VAE(nn.Module):\n",
        "    def __init__(self, latent_dim):\n",
        "        super(VAE, self).__init__()\n",
        "        self.latent_dim = latent_dim\n",
        "        # Encoder layers\n",
        "        self.encoder = nn.Sequential(\n",
        "            nn.Conv2d(3, 32, kernel_size=3, stride=2, padding=1),\n",
        "            nn.ReLU(),\n",
        "            nn.Conv2d(32, 64, kernel_size=3, stride=2, padding=1),\n",
        "            nn.ReLU(),\n",
        "            nn.Conv2d(64, 128, kernel_size=3, stride=2, padding=1),\n",
        "            nn.ReLU(),\n",
        "            nn.Conv2d(128, 256, kernel_size=3, stride=2, padding=1),\n",
        "            nn.ReLU(),\n",
        "            nn.Flatten(),\n",
        "            nn.Linear(256 * 4 * 4, 2 * latent_dim),  # Two outputs for mean and variance\n",
        "        )\n",
        "        # Decoder layers\n",
        "        self.decoder = nn.Sequential(\n",
        "            nn.Linear(latent_dim, 256 * 4 * 4),\n",
        "            nn.ReLU(),\n",
        "            nn.Unflatten(1, (256, 4, 4)),\n",
        "            nn.ConvTranspose2d(256, 128, kernel_size=4, stride=2, padding=1),\n",
        "            nn.ReLU(),\n",
        "            nn.ConvTranspose2d(128, 64, kernel_size=4, stride=2, padding=1),\n",
        "            nn.ReLU(),\n",
        "            nn.ConvTranspose2d(64, 32, kernel_size=4, stride=2, padding=1),\n",
        "            nn.ReLU(),\n",
        "            nn.ConvTranspose2d(32, 3, kernel_size=4, stride=2, padding=1),\n",
        "            nn.Sigmoid()  # Sigmoid activation to output values between 0 and 1\n",
        "        )\n",
        "\n",
        "    def reparameterize(self, mu, logvar):\n",
        "        std = torch.exp(0.5 * logvar)\n",
        "        eps = torch.randn_like(std)\n",
        "        return mu + eps * std\n",
        "\n",
        "    def forward(self, x):\n",
        "        # Encode input\n",
        "        encoded = self.encoder(x)\n",
        "        # Split the output into mean and logvar\n",
        "        mu, logvar = torch.chunk(encoded, 2, dim=1)\n",
        "        # Reparameterize\n",
        "        z = self.reparameterize(mu, logvar)\n",
        "        # Decode\n",
        "        decoded = self.decoder(z)\n",
        "        return decoded, mu, logvar\n",
        "\n",
        "# Function to train the VAE\n",
        "def train_vae(vae_model, train_loader, optimizer, criterion, num_epochs):\n",
        "    vae_model.train()\n",
        "    for epoch in range(num_epochs):\n",
        "        total_loss = 0.0\n",
        "        for batch_idx, data in enumerate(train_loader):\n",
        "            optimizer.zero_grad()\n",
        "            recon_batch, mu, logvar = vae_model(data)\n",
        "            # Compute reconstruction loss and KL divergence\n",
        "            reconstruction_loss = criterion(recon_batch, data)\n",
        "            kl_divergence = -0.5 * torch.sum(1 + logvar - mu.pow(2) - logvar.exp())\n",
        "            loss = reconstruction_loss + kl_divergence\n",
        "            loss.backward()\n",
        "            total_loss += loss.item()\n",
        "            optimizer.step()\n",
        "        print(f\"Epoch {epoch+1}/{num_epochs}, Loss: {total_loss / len(train_loader)}\")\n",
        "\n",
        "# Function to generate images from the VAE\n",
        "def generate_images(vae_model, num_images=5):\n",
        "    generated_images = []\n",
        "    with torch.no_grad():\n",
        "        for _ in range(num_images):\n",
        "            z = torch.randn(1, latent_dim)  # Sample from latent space\n",
        "            generated_img = vae_model.decoder(z)  # Generate image from latent vector using the decoder\n",
        "            generated_images.append(generated_img.numpy())\n",
        "\n",
        "    fig, axes = plt.subplots(1, num_images, figsize=(20, 5))\n",
        "    for i in range(num_images):\n",
        "        img = generated_images[i].squeeze()  # Remove the batch dimension\n",
        "        axes[i].imshow(np.transpose(img, (1, 2, 0)))  # Transpose to (H, W, C) for displaying RGB images\n",
        "        axes[i].axis('off')\n",
        "    plt.show()\n",
        "\n",
        "# Define hyperparameters\n",
        "latent_dim = 120\n",
        "batch_size = 32\n",
        "learning_rate = 1e-3\n",
        "num_epochs = 100\n",
        "\n",
        "# Create a dataset and DataLoader\n",
        "transform = transforms.Compose([\n",
        "    transforms.Resize((64, 64)),  # Resize images to a consistent size\n",
        "    transforms.ToTensor(),  # Convert images to tensors\n",
        "])\n",
        "dataset = CustomDataset(data_root, transform=transform)\n",
        "train_loader = DataLoader(dataset, batch_size=batch_size, shuffle=True)\n",
        "\n",
        "# Create the VAE model, optimizer, and loss function\n",
        "vae_model = VAE(latent_dim)\n",
        "optimizer = optim.Adam(vae_model.parameters(), lr=learning_rate)\n",
        "criterion = nn.BCELoss(reduction='sum')  # Binary cross-entropy loss for reconstruction\n",
        "\n",
        "# Train the VAE\n",
        "train_vae(vae_model, train_loader, optimizer, criterion, num_epochs)\n",
        "\n",
        "# Generate images using the trained VAE\n",
        "generate_images(vae_model, num_images=5)"
      ],
      "metadata": {
        "colab": {
          "base_uri": "https://localhost:8080/",
          "height": 1000
        },
        "id": "xy2_z60s1zDv",
        "outputId": "821fb181-0f7a-49a1-d03e-5ad360e1ece8"
      },
      "execution_count": null,
      "outputs": [
        {
          "output_type": "stream",
          "name": "stdout",
          "text": [
            "Epoch 1/100, Loss: 246953.2820564516\n",
            "Epoch 2/100, Loss: 237239.94027217742\n",
            "Epoch 3/100, Loss: 233829.8306451613\n",
            "Epoch 4/100, Loss: 232773.92076612904\n",
            "Epoch 5/100, Loss: 232186.7019657258\n",
            "Epoch 6/100, Loss: 231949.33881048387\n",
            "Epoch 7/100, Loss: 231633.0472278226\n",
            "Epoch 8/100, Loss: 231449.5439516129\n",
            "Epoch 9/100, Loss: 231375.7113407258\n",
            "Epoch 10/100, Loss: 231227.3302923387\n",
            "Epoch 11/100, Loss: 231194.30378024193\n",
            "Epoch 12/100, Loss: 231097.7782762097\n",
            "Epoch 13/100, Loss: 231064.51648185484\n",
            "Epoch 14/100, Loss: 230987.42731854838\n",
            "Epoch 15/100, Loss: 230974.18548387097\n",
            "Epoch 16/100, Loss: 230980.02943548388\n",
            "Epoch 17/100, Loss: 230852.83155241935\n",
            "Epoch 18/100, Loss: 230821.82192540323\n",
            "Epoch 19/100, Loss: 230914.13840725805\n",
            "Epoch 20/100, Loss: 230824.98739919355\n",
            "Epoch 21/100, Loss: 230784.1966733871\n",
            "Epoch 22/100, Loss: 230736.1733870968\n",
            "Epoch 23/100, Loss: 230761.0929435484\n",
            "Epoch 24/100, Loss: 230677.0673891129\n",
            "Epoch 25/100, Loss: 230691.34611895162\n",
            "Epoch 26/100, Loss: 230664.05861895162\n",
            "Epoch 27/100, Loss: 230650.0671875\n",
            "Epoch 28/100, Loss: 230687.4271169355\n",
            "Epoch 29/100, Loss: 230605.55070564518\n",
            "Epoch 30/100, Loss: 230598.0543346774\n",
            "Epoch 31/100, Loss: 230588.2285282258\n",
            "Epoch 32/100, Loss: 230561.5706653226\n",
            "Epoch 33/100, Loss: 230530.23371975808\n",
            "Epoch 34/100, Loss: 230515.18699596773\n",
            "Epoch 35/100, Loss: 230524.93195564515\n",
            "Epoch 36/100, Loss: 230476.58205645162\n",
            "Epoch 37/100, Loss: 230536.14929435484\n",
            "Epoch 38/100, Loss: 230474.19818548387\n",
            "Epoch 39/100, Loss: 230443.7094254032\n",
            "Epoch 40/100, Loss: 230412.4357358871\n",
            "Epoch 41/100, Loss: 230454.83487903225\n",
            "Epoch 42/100, Loss: 230440.58245967742\n",
            "Epoch 43/100, Loss: 230380.44359879033\n",
            "Epoch 44/100, Loss: 230369.0152721774\n",
            "Epoch 45/100, Loss: 230344.43548387097\n",
            "Epoch 46/100, Loss: 230349.75453629033\n",
            "Epoch 47/100, Loss: 230330.49269153227\n",
            "Epoch 48/100, Loss: 230339.07192540323\n",
            "Epoch 49/100, Loss: 230336.6308467742\n",
            "Epoch 50/100, Loss: 230283.16476814516\n",
            "Epoch 51/100, Loss: 230312.36748991936\n",
            "Epoch 52/100, Loss: 230263.6898185484\n",
            "Epoch 53/100, Loss: 230286.3013608871\n",
            "Epoch 54/100, Loss: 230259.73366935484\n",
            "Epoch 55/100, Loss: 230290.0613407258\n",
            "Epoch 56/100, Loss: 230288.1351310484\n",
            "Epoch 57/100, Loss: 230293.0419858871\n",
            "Epoch 58/100, Loss: 230236.1570564516\n",
            "Epoch 59/100, Loss: 230217.37520161291\n",
            "Epoch 60/100, Loss: 230215.17535282258\n",
            "Epoch 61/100, Loss: 230201.03578629033\n",
            "Epoch 62/100, Loss: 230227.39868951612\n",
            "Epoch 63/100, Loss: 230201.01219758065\n",
            "Epoch 64/100, Loss: 230195.76592741936\n",
            "Epoch 65/100, Loss: 230187.2294858871\n",
            "Epoch 66/100, Loss: 230184.72610887096\n",
            "Epoch 67/100, Loss: 230163.296875\n",
            "Epoch 68/100, Loss: 230164.16103830645\n",
            "Epoch 69/100, Loss: 230164.30897177418\n",
            "Epoch 70/100, Loss: 230181.5818548387\n",
            "Epoch 71/100, Loss: 230142.59712701614\n",
            "Epoch 72/100, Loss: 230165.93462701613\n",
            "Epoch 73/100, Loss: 230140.31013104838\n",
            "Epoch 74/100, Loss: 230173.78210685484\n",
            "Epoch 75/100, Loss: 230136.71537298386\n",
            "Epoch 76/100, Loss: 230122.3775705645\n",
            "Epoch 77/100, Loss: 230115.19591733871\n",
            "Epoch 78/100, Loss: 230096.42626008065\n",
            "Epoch 79/100, Loss: 230103.87041330646\n",
            "Epoch 80/100, Loss: 230113.10146169356\n",
            "Epoch 81/100, Loss: 230105.42731854838\n",
            "Epoch 82/100, Loss: 230092.65342741937\n",
            "Epoch 83/100, Loss: 230070.74526209678\n",
            "Epoch 84/100, Loss: 230059.1627016129\n",
            "Epoch 85/100, Loss: 230080.42202620968\n",
            "Epoch 86/100, Loss: 230091.00942540323\n",
            "Epoch 87/100, Loss: 230071.0003528226\n",
            "Epoch 88/100, Loss: 230072.30105846774\n",
            "Epoch 89/100, Loss: 230091.47545362904\n",
            "Epoch 90/100, Loss: 230069.21895161291\n",
            "Epoch 91/100, Loss: 230047.91708669355\n",
            "Epoch 92/100, Loss: 230071.9757560484\n",
            "Epoch 93/100, Loss: 230029.59485887096\n",
            "Epoch 94/100, Loss: 230032.75493951613\n",
            "Epoch 95/100, Loss: 230032.2949092742\n",
            "Epoch 96/100, Loss: 230031.2797379032\n",
            "Epoch 97/100, Loss: 230019.10710685485\n",
            "Epoch 98/100, Loss: 230029.35831653225\n",
            "Epoch 99/100, Loss: 230018.94097782258\n",
            "Epoch 100/100, Loss: 230006.64853830644\n"
          ]
        },
        {
          "output_type": "display_data",
          "data": {
            "text/plain": [
              "<Figure size 2000x500 with 5 Axes>"
            ],
            "image/png": "[encoded data removed]"
          },
          "metadata": {}
        }
      ]
    },
    {
      "cell_type": "code",
      "source": [],
      "metadata": {
        "id": "J7H4iE2LoTlf"
      },
      "execution_count": null,
      "outputs": []
    },
    {
      "cell_type": "code",
      "source": [
        "#time 2h 27min\n",
        "# conv added which in comparison with the linear layer we can see the difference. (Check also the difference beteen the architectures)"
      ],
      "metadata": {
        "id": "wqkjGPjbiTua"
      },
      "execution_count": null,
      "outputs": []
    }
  ]
}